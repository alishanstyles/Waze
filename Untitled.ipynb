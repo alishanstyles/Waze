{
 "cells": [
  {
   "cell_type": "code",
   "execution_count": 18,
   "id": "03bb8ce7-36b2-4495-b3ba-4595f2d3aed2",
   "metadata": {
    "tags": []
   },
   "outputs": [],
   "source": [
    "import pandas as pd\n",
    "import numpy as np\n",
    "import matplotlib.pyplot as plt\n",
    "import seaborn as sns"
   ]
  },
  {
   "cell_type": "code",
   "execution_count": 2,
   "id": "8d8ef6b3-665a-42ca-90b0-39dc9db99a4f",
   "metadata": {
    "tags": []
   },
   "outputs": [],
   "source": [
    "df = pd.read_csv('waze_dataset.csv')"
   ]
  },
  {
   "cell_type": "code",
   "execution_count": 3,
   "id": "4bdfcc2b-1836-4b1a-9412-f94927ac4d43",
   "metadata": {
    "tags": []
   },
   "outputs": [
    {
     "data": {
      "text/html": [
       "<div>\n",
       "<style scoped>\n",
       "    .dataframe tbody tr th:only-of-type {\n",
       "        vertical-align: middle;\n",
       "    }\n",
       "\n",
       "    .dataframe tbody tr th {\n",
       "        vertical-align: top;\n",
       "    }\n",
       "\n",
       "    .dataframe thead th {\n",
       "        text-align: right;\n",
       "    }\n",
       "</style>\n",
       "<table border=\"1\" class=\"dataframe\">\n",
       "  <thead>\n",
       "    <tr style=\"text-align: right;\">\n",
       "      <th></th>\n",
       "      <th>ID</th>\n",
       "      <th>label</th>\n",
       "      <th>sessions</th>\n",
       "      <th>drives</th>\n",
       "      <th>total_sessions</th>\n",
       "      <th>n_days_after_onboarding</th>\n",
       "      <th>total_navigations_fav1</th>\n",
       "      <th>total_navigations_fav2</th>\n",
       "      <th>driven_km_drives</th>\n",
       "      <th>duration_minutes_drives</th>\n",
       "      <th>activity_days</th>\n",
       "      <th>driving_days</th>\n",
       "      <th>device</th>\n",
       "    </tr>\n",
       "  </thead>\n",
       "  <tbody>\n",
       "    <tr>\n",
       "      <th>0</th>\n",
       "      <td>0</td>\n",
       "      <td>retained</td>\n",
       "      <td>283</td>\n",
       "      <td>226</td>\n",
       "      <td>296.748273</td>\n",
       "      <td>2276</td>\n",
       "      <td>208</td>\n",
       "      <td>0</td>\n",
       "      <td>2628.845068</td>\n",
       "      <td>1985.775061</td>\n",
       "      <td>28</td>\n",
       "      <td>19</td>\n",
       "      <td>Android</td>\n",
       "    </tr>\n",
       "    <tr>\n",
       "      <th>1</th>\n",
       "      <td>1</td>\n",
       "      <td>retained</td>\n",
       "      <td>133</td>\n",
       "      <td>107</td>\n",
       "      <td>326.896596</td>\n",
       "      <td>1225</td>\n",
       "      <td>19</td>\n",
       "      <td>64</td>\n",
       "      <td>13715.920550</td>\n",
       "      <td>3160.472914</td>\n",
       "      <td>13</td>\n",
       "      <td>11</td>\n",
       "      <td>iPhone</td>\n",
       "    </tr>\n",
       "    <tr>\n",
       "      <th>2</th>\n",
       "      <td>2</td>\n",
       "      <td>retained</td>\n",
       "      <td>114</td>\n",
       "      <td>95</td>\n",
       "      <td>135.522926</td>\n",
       "      <td>2651</td>\n",
       "      <td>0</td>\n",
       "      <td>0</td>\n",
       "      <td>3059.148818</td>\n",
       "      <td>1610.735904</td>\n",
       "      <td>14</td>\n",
       "      <td>8</td>\n",
       "      <td>Android</td>\n",
       "    </tr>\n",
       "    <tr>\n",
       "      <th>3</th>\n",
       "      <td>3</td>\n",
       "      <td>retained</td>\n",
       "      <td>49</td>\n",
       "      <td>40</td>\n",
       "      <td>67.589221</td>\n",
       "      <td>15</td>\n",
       "      <td>322</td>\n",
       "      <td>7</td>\n",
       "      <td>913.591123</td>\n",
       "      <td>587.196542</td>\n",
       "      <td>7</td>\n",
       "      <td>3</td>\n",
       "      <td>iPhone</td>\n",
       "    </tr>\n",
       "    <tr>\n",
       "      <th>4</th>\n",
       "      <td>4</td>\n",
       "      <td>retained</td>\n",
       "      <td>84</td>\n",
       "      <td>68</td>\n",
       "      <td>168.247020</td>\n",
       "      <td>1562</td>\n",
       "      <td>166</td>\n",
       "      <td>5</td>\n",
       "      <td>3950.202008</td>\n",
       "      <td>1219.555924</td>\n",
       "      <td>27</td>\n",
       "      <td>18</td>\n",
       "      <td>Android</td>\n",
       "    </tr>\n",
       "    <tr>\n",
       "      <th>5</th>\n",
       "      <td>5</td>\n",
       "      <td>retained</td>\n",
       "      <td>113</td>\n",
       "      <td>103</td>\n",
       "      <td>279.544437</td>\n",
       "      <td>2637</td>\n",
       "      <td>0</td>\n",
       "      <td>0</td>\n",
       "      <td>901.238699</td>\n",
       "      <td>439.101397</td>\n",
       "      <td>15</td>\n",
       "      <td>11</td>\n",
       "      <td>iPhone</td>\n",
       "    </tr>\n",
       "    <tr>\n",
       "      <th>6</th>\n",
       "      <td>6</td>\n",
       "      <td>retained</td>\n",
       "      <td>3</td>\n",
       "      <td>2</td>\n",
       "      <td>236.725314</td>\n",
       "      <td>360</td>\n",
       "      <td>185</td>\n",
       "      <td>18</td>\n",
       "      <td>5249.172828</td>\n",
       "      <td>726.577205</td>\n",
       "      <td>28</td>\n",
       "      <td>23</td>\n",
       "      <td>iPhone</td>\n",
       "    </tr>\n",
       "    <tr>\n",
       "      <th>7</th>\n",
       "      <td>7</td>\n",
       "      <td>retained</td>\n",
       "      <td>39</td>\n",
       "      <td>35</td>\n",
       "      <td>176.072845</td>\n",
       "      <td>2999</td>\n",
       "      <td>0</td>\n",
       "      <td>0</td>\n",
       "      <td>7892.052468</td>\n",
       "      <td>2466.981741</td>\n",
       "      <td>22</td>\n",
       "      <td>20</td>\n",
       "      <td>iPhone</td>\n",
       "    </tr>\n",
       "    <tr>\n",
       "      <th>8</th>\n",
       "      <td>8</td>\n",
       "      <td>retained</td>\n",
       "      <td>57</td>\n",
       "      <td>46</td>\n",
       "      <td>183.532018</td>\n",
       "      <td>424</td>\n",
       "      <td>0</td>\n",
       "      <td>26</td>\n",
       "      <td>2651.709764</td>\n",
       "      <td>1594.342984</td>\n",
       "      <td>25</td>\n",
       "      <td>20</td>\n",
       "      <td>Android</td>\n",
       "    </tr>\n",
       "    <tr>\n",
       "      <th>9</th>\n",
       "      <td>9</td>\n",
       "      <td>churned</td>\n",
       "      <td>84</td>\n",
       "      <td>68</td>\n",
       "      <td>244.802115</td>\n",
       "      <td>2997</td>\n",
       "      <td>72</td>\n",
       "      <td>0</td>\n",
       "      <td>6043.460295</td>\n",
       "      <td>2341.838528</td>\n",
       "      <td>7</td>\n",
       "      <td>3</td>\n",
       "      <td>iPhone</td>\n",
       "    </tr>\n",
       "  </tbody>\n",
       "</table>\n",
       "</div>"
      ],
      "text/plain": [
       "   ID     label  sessions  drives  total_sessions  n_days_after_onboarding  \\\n",
       "0   0  retained       283     226      296.748273                     2276   \n",
       "1   1  retained       133     107      326.896596                     1225   \n",
       "2   2  retained       114      95      135.522926                     2651   \n",
       "3   3  retained        49      40       67.589221                       15   \n",
       "4   4  retained        84      68      168.247020                     1562   \n",
       "5   5  retained       113     103      279.544437                     2637   \n",
       "6   6  retained         3       2      236.725314                      360   \n",
       "7   7  retained        39      35      176.072845                     2999   \n",
       "8   8  retained        57      46      183.532018                      424   \n",
       "9   9   churned        84      68      244.802115                     2997   \n",
       "\n",
       "   total_navigations_fav1  total_navigations_fav2  driven_km_drives  \\\n",
       "0                     208                       0       2628.845068   \n",
       "1                      19                      64      13715.920550   \n",
       "2                       0                       0       3059.148818   \n",
       "3                     322                       7        913.591123   \n",
       "4                     166                       5       3950.202008   \n",
       "5                       0                       0        901.238699   \n",
       "6                     185                      18       5249.172828   \n",
       "7                       0                       0       7892.052468   \n",
       "8                       0                      26       2651.709764   \n",
       "9                      72                       0       6043.460295   \n",
       "\n",
       "   duration_minutes_drives  activity_days  driving_days   device  \n",
       "0              1985.775061             28            19  Android  \n",
       "1              3160.472914             13            11   iPhone  \n",
       "2              1610.735904             14             8  Android  \n",
       "3               587.196542              7             3   iPhone  \n",
       "4              1219.555924             27            18  Android  \n",
       "5               439.101397             15            11   iPhone  \n",
       "6               726.577205             28            23   iPhone  \n",
       "7              2466.981741             22            20   iPhone  \n",
       "8              1594.342984             25            20  Android  \n",
       "9              2341.838528              7             3   iPhone  "
      ]
     },
     "execution_count": 3,
     "metadata": {},
     "output_type": "execute_result"
    }
   ],
   "source": [
    "df.head(10)"
   ]
  },
  {
   "cell_type": "code",
   "execution_count": 4,
   "id": "451006e1-a204-4887-bfa0-6554b17746b5",
   "metadata": {
    "tags": []
   },
   "outputs": [
    {
     "name": "stdout",
     "output_type": "stream",
     "text": [
      "<class 'pandas.core.frame.DataFrame'>\n",
      "RangeIndex: 14999 entries, 0 to 14998\n",
      "Data columns (total 13 columns):\n",
      " #   Column                   Non-Null Count  Dtype  \n",
      "---  ------                   --------------  -----  \n",
      " 0   ID                       14999 non-null  int64  \n",
      " 1   label                    14299 non-null  object \n",
      " 2   sessions                 14999 non-null  int64  \n",
      " 3   drives                   14999 non-null  int64  \n",
      " 4   total_sessions           14999 non-null  float64\n",
      " 5   n_days_after_onboarding  14999 non-null  int64  \n",
      " 6   total_navigations_fav1   14999 non-null  int64  \n",
      " 7   total_navigations_fav2   14999 non-null  int64  \n",
      " 8   driven_km_drives         14999 non-null  float64\n",
      " 9   duration_minutes_drives  14999 non-null  float64\n",
      " 10  activity_days            14999 non-null  int64  \n",
      " 11  driving_days             14999 non-null  int64  \n",
      " 12  device                   14999 non-null  object \n",
      "dtypes: float64(3), int64(8), object(2)\n",
      "memory usage: 1.5+ MB\n"
     ]
    }
   ],
   "source": [
    "df.info()"
   ]
  },
  {
   "cell_type": "code",
   "execution_count": 19,
   "id": "2a22fa08-c315-4c78-af6b-bf303237540b",
   "metadata": {
    "tags": []
   },
   "outputs": [
    {
     "data": {
      "text/plain": [
       "239984"
      ]
     },
     "execution_count": 19,
     "metadata": {},
     "output_type": "execute_result"
    }
   ],
   "source": [
    "df.size"
   ]
  },
  {
   "cell_type": "code",
   "execution_count": 20,
   "id": "6ee0957a-b64c-4c9b-bd7c-aebd8b6f1147",
   "metadata": {
    "tags": []
   },
   "outputs": [
    {
     "data": {
      "text/html": [
       "<div>\n",
       "<style scoped>\n",
       "    .dataframe tbody tr th:only-of-type {\n",
       "        vertical-align: middle;\n",
       "    }\n",
       "\n",
       "    .dataframe tbody tr th {\n",
       "        vertical-align: top;\n",
       "    }\n",
       "\n",
       "    .dataframe thead th {\n",
       "        text-align: right;\n",
       "    }\n",
       "</style>\n",
       "<table border=\"1\" class=\"dataframe\">\n",
       "  <thead>\n",
       "    <tr style=\"text-align: right;\">\n",
       "      <th></th>\n",
       "      <th>ID</th>\n",
       "      <th>sessions</th>\n",
       "      <th>drives</th>\n",
       "      <th>total_sessions</th>\n",
       "      <th>n_days_after_onboarding</th>\n",
       "      <th>total_navigations_fav1</th>\n",
       "      <th>total_navigations_fav2</th>\n",
       "      <th>driven_km_drives</th>\n",
       "      <th>duration_minutes_drives</th>\n",
       "      <th>activity_days</th>\n",
       "      <th>driving_days</th>\n",
       "      <th>km_per_drive</th>\n",
       "      <th>km_per_driving_day</th>\n",
       "      <th>drives_per_driving_day</th>\n",
       "    </tr>\n",
       "  </thead>\n",
       "  <tbody>\n",
       "    <tr>\n",
       "      <th>count</th>\n",
       "      <td>14999.000000</td>\n",
       "      <td>14999.000000</td>\n",
       "      <td>14999.000000</td>\n",
       "      <td>14999.000000</td>\n",
       "      <td>14999.000000</td>\n",
       "      <td>14999.000000</td>\n",
       "      <td>14999.000000</td>\n",
       "      <td>14999.000000</td>\n",
       "      <td>14999.000000</td>\n",
       "      <td>14999.000000</td>\n",
       "      <td>14999.000000</td>\n",
       "      <td>1.499900e+04</td>\n",
       "      <td>1.499900e+04</td>\n",
       "      <td>1.499200e+04</td>\n",
       "    </tr>\n",
       "    <tr>\n",
       "      <th>mean</th>\n",
       "      <td>7499.000000</td>\n",
       "      <td>80.633776</td>\n",
       "      <td>67.281152</td>\n",
       "      <td>189.964447</td>\n",
       "      <td>1749.837789</td>\n",
       "      <td>121.605974</td>\n",
       "      <td>29.672512</td>\n",
       "      <td>4039.340921</td>\n",
       "      <td>1860.976012</td>\n",
       "      <td>15.537102</td>\n",
       "      <td>12.179879</td>\n",
       "      <td>inf</td>\n",
       "      <td>inf</td>\n",
       "      <td>inf</td>\n",
       "    </tr>\n",
       "    <tr>\n",
       "      <th>std</th>\n",
       "      <td>4329.982679</td>\n",
       "      <td>80.699065</td>\n",
       "      <td>65.913872</td>\n",
       "      <td>136.405128</td>\n",
       "      <td>1008.513876</td>\n",
       "      <td>148.121544</td>\n",
       "      <td>45.394651</td>\n",
       "      <td>2502.149334</td>\n",
       "      <td>1446.702288</td>\n",
       "      <td>9.004655</td>\n",
       "      <td>7.824036</td>\n",
       "      <td>NaN</td>\n",
       "      <td>NaN</td>\n",
       "      <td>NaN</td>\n",
       "    </tr>\n",
       "    <tr>\n",
       "      <th>min</th>\n",
       "      <td>0.000000</td>\n",
       "      <td>0.000000</td>\n",
       "      <td>0.000000</td>\n",
       "      <td>0.220211</td>\n",
       "      <td>4.000000</td>\n",
       "      <td>0.000000</td>\n",
       "      <td>0.000000</td>\n",
       "      <td>60.441250</td>\n",
       "      <td>18.282082</td>\n",
       "      <td>0.000000</td>\n",
       "      <td>0.000000</td>\n",
       "      <td>1.008775e+00</td>\n",
       "      <td>3.022063e+00</td>\n",
       "      <td>0.000000e+00</td>\n",
       "    </tr>\n",
       "    <tr>\n",
       "      <th>25%</th>\n",
       "      <td>3749.500000</td>\n",
       "      <td>23.000000</td>\n",
       "      <td>20.000000</td>\n",
       "      <td>90.661156</td>\n",
       "      <td>878.000000</td>\n",
       "      <td>9.000000</td>\n",
       "      <td>0.000000</td>\n",
       "      <td>2212.600607</td>\n",
       "      <td>835.996260</td>\n",
       "      <td>8.000000</td>\n",
       "      <td>5.000000</td>\n",
       "      <td>3.323065e+01</td>\n",
       "      <td>1.672804e+02</td>\n",
       "      <td>1.800000e+00</td>\n",
       "    </tr>\n",
       "    <tr>\n",
       "      <th>50%</th>\n",
       "      <td>7499.000000</td>\n",
       "      <td>56.000000</td>\n",
       "      <td>48.000000</td>\n",
       "      <td>159.568115</td>\n",
       "      <td>1741.000000</td>\n",
       "      <td>71.000000</td>\n",
       "      <td>9.000000</td>\n",
       "      <td>3493.858085</td>\n",
       "      <td>1478.249859</td>\n",
       "      <td>16.000000</td>\n",
       "      <td>12.000000</td>\n",
       "      <td>7.488006e+01</td>\n",
       "      <td>3.231459e+02</td>\n",
       "      <td>4.666667e+00</td>\n",
       "    </tr>\n",
       "    <tr>\n",
       "      <th>75%</th>\n",
       "      <td>11248.500000</td>\n",
       "      <td>112.000000</td>\n",
       "      <td>93.000000</td>\n",
       "      <td>254.192341</td>\n",
       "      <td>2623.500000</td>\n",
       "      <td>178.000000</td>\n",
       "      <td>43.000000</td>\n",
       "      <td>5289.861262</td>\n",
       "      <td>2464.362632</td>\n",
       "      <td>23.000000</td>\n",
       "      <td>19.000000</td>\n",
       "      <td>1.854667e+02</td>\n",
       "      <td>7.579257e+02</td>\n",
       "      <td>1.216667e+01</td>\n",
       "    </tr>\n",
       "    <tr>\n",
       "      <th>max</th>\n",
       "      <td>14998.000000</td>\n",
       "      <td>743.000000</td>\n",
       "      <td>596.000000</td>\n",
       "      <td>1216.154633</td>\n",
       "      <td>3500.000000</td>\n",
       "      <td>1236.000000</td>\n",
       "      <td>415.000000</td>\n",
       "      <td>21183.401890</td>\n",
       "      <td>15851.727160</td>\n",
       "      <td>31.000000</td>\n",
       "      <td>30.000000</td>\n",
       "      <td>inf</td>\n",
       "      <td>inf</td>\n",
       "      <td>inf</td>\n",
       "    </tr>\n",
       "  </tbody>\n",
       "</table>\n",
       "</div>"
      ],
      "text/plain": [
       "                 ID      sessions        drives  total_sessions  \\\n",
       "count  14999.000000  14999.000000  14999.000000    14999.000000   \n",
       "mean    7499.000000     80.633776     67.281152      189.964447   \n",
       "std     4329.982679     80.699065     65.913872      136.405128   \n",
       "min        0.000000      0.000000      0.000000        0.220211   \n",
       "25%     3749.500000     23.000000     20.000000       90.661156   \n",
       "50%     7499.000000     56.000000     48.000000      159.568115   \n",
       "75%    11248.500000    112.000000     93.000000      254.192341   \n",
       "max    14998.000000    743.000000    596.000000     1216.154633   \n",
       "\n",
       "       n_days_after_onboarding  total_navigations_fav1  \\\n",
       "count             14999.000000            14999.000000   \n",
       "mean               1749.837789              121.605974   \n",
       "std                1008.513876              148.121544   \n",
       "min                   4.000000                0.000000   \n",
       "25%                 878.000000                9.000000   \n",
       "50%                1741.000000               71.000000   \n",
       "75%                2623.500000              178.000000   \n",
       "max                3500.000000             1236.000000   \n",
       "\n",
       "       total_navigations_fav2  driven_km_drives  duration_minutes_drives  \\\n",
       "count            14999.000000      14999.000000             14999.000000   \n",
       "mean                29.672512       4039.340921              1860.976012   \n",
       "std                 45.394651       2502.149334              1446.702288   \n",
       "min                  0.000000         60.441250                18.282082   \n",
       "25%                  0.000000       2212.600607               835.996260   \n",
       "50%                  9.000000       3493.858085              1478.249859   \n",
       "75%                 43.000000       5289.861262              2464.362632   \n",
       "max                415.000000      21183.401890             15851.727160   \n",
       "\n",
       "       activity_days  driving_days  km_per_drive  km_per_driving_day  \\\n",
       "count   14999.000000  14999.000000  1.499900e+04        1.499900e+04   \n",
       "mean       15.537102     12.179879           inf                 inf   \n",
       "std         9.004655      7.824036           NaN                 NaN   \n",
       "min         0.000000      0.000000  1.008775e+00        3.022063e+00   \n",
       "25%         8.000000      5.000000  3.323065e+01        1.672804e+02   \n",
       "50%        16.000000     12.000000  7.488006e+01        3.231459e+02   \n",
       "75%        23.000000     19.000000  1.854667e+02        7.579257e+02   \n",
       "max        31.000000     30.000000           inf                 inf   \n",
       "\n",
       "       drives_per_driving_day  \n",
       "count            1.499200e+04  \n",
       "mean                      inf  \n",
       "std                       NaN  \n",
       "min              0.000000e+00  \n",
       "25%              1.800000e+00  \n",
       "50%              4.666667e+00  \n",
       "75%              1.216667e+01  \n",
       "max                       inf  "
      ]
     },
     "execution_count": 20,
     "metadata": {},
     "output_type": "execute_result"
    }
   ],
   "source": [
    "df.describe()"
   ]
  },
  {
   "cell_type": "code",
   "execution_count": 6,
   "id": "ebb01c23-80ce-4aa2-bacc-97b96bc6ff38",
   "metadata": {
    "tags": []
   },
   "outputs": [],
   "source": [
    "# Comparing the summary of statistics of the 700 rows that are missing labels with the summary statistics of the rows that are not missing values."
   ]
  },
  {
   "cell_type": "code",
   "execution_count": 5,
   "id": "3d8dbbb0-0e84-492b-8005-65c8325f51de",
   "metadata": {
    "tags": []
   },
   "outputs": [
    {
     "data": {
      "text/html": [
       "<div>\n",
       "<style scoped>\n",
       "    .dataframe tbody tr th:only-of-type {\n",
       "        vertical-align: middle;\n",
       "    }\n",
       "\n",
       "    .dataframe tbody tr th {\n",
       "        vertical-align: top;\n",
       "    }\n",
       "\n",
       "    .dataframe thead th {\n",
       "        text-align: right;\n",
       "    }\n",
       "</style>\n",
       "<table border=\"1\" class=\"dataframe\">\n",
       "  <thead>\n",
       "    <tr style=\"text-align: right;\">\n",
       "      <th></th>\n",
       "      <th>ID</th>\n",
       "      <th>sessions</th>\n",
       "      <th>drives</th>\n",
       "      <th>total_sessions</th>\n",
       "      <th>n_days_after_onboarding</th>\n",
       "      <th>total_navigations_fav1</th>\n",
       "      <th>total_navigations_fav2</th>\n",
       "      <th>driven_km_drives</th>\n",
       "      <th>duration_minutes_drives</th>\n",
       "      <th>activity_days</th>\n",
       "      <th>driving_days</th>\n",
       "    </tr>\n",
       "  </thead>\n",
       "  <tbody>\n",
       "    <tr>\n",
       "      <th>count</th>\n",
       "      <td>700.000000</td>\n",
       "      <td>700.000000</td>\n",
       "      <td>700.000000</td>\n",
       "      <td>700.000000</td>\n",
       "      <td>700.000000</td>\n",
       "      <td>700.000000</td>\n",
       "      <td>700.000000</td>\n",
       "      <td>700.000000</td>\n",
       "      <td>700.000000</td>\n",
       "      <td>700.000000</td>\n",
       "      <td>700.000000</td>\n",
       "    </tr>\n",
       "    <tr>\n",
       "      <th>mean</th>\n",
       "      <td>7405.584286</td>\n",
       "      <td>80.837143</td>\n",
       "      <td>67.798571</td>\n",
       "      <td>198.483348</td>\n",
       "      <td>1709.295714</td>\n",
       "      <td>118.717143</td>\n",
       "      <td>30.371429</td>\n",
       "      <td>3935.967029</td>\n",
       "      <td>1795.123358</td>\n",
       "      <td>15.382857</td>\n",
       "      <td>12.125714</td>\n",
       "    </tr>\n",
       "    <tr>\n",
       "      <th>std</th>\n",
       "      <td>4306.900234</td>\n",
       "      <td>79.987440</td>\n",
       "      <td>65.271926</td>\n",
       "      <td>140.561715</td>\n",
       "      <td>1005.306562</td>\n",
       "      <td>156.308140</td>\n",
       "      <td>46.306984</td>\n",
       "      <td>2443.107121</td>\n",
       "      <td>1419.242246</td>\n",
       "      <td>8.772714</td>\n",
       "      <td>7.626373</td>\n",
       "    </tr>\n",
       "    <tr>\n",
       "      <th>min</th>\n",
       "      <td>77.000000</td>\n",
       "      <td>0.000000</td>\n",
       "      <td>0.000000</td>\n",
       "      <td>5.582648</td>\n",
       "      <td>16.000000</td>\n",
       "      <td>0.000000</td>\n",
       "      <td>0.000000</td>\n",
       "      <td>290.119811</td>\n",
       "      <td>66.588493</td>\n",
       "      <td>0.000000</td>\n",
       "      <td>0.000000</td>\n",
       "    </tr>\n",
       "    <tr>\n",
       "      <th>25%</th>\n",
       "      <td>3744.500000</td>\n",
       "      <td>23.000000</td>\n",
       "      <td>20.000000</td>\n",
       "      <td>94.056340</td>\n",
       "      <td>869.000000</td>\n",
       "      <td>4.000000</td>\n",
       "      <td>0.000000</td>\n",
       "      <td>2119.344818</td>\n",
       "      <td>779.009271</td>\n",
       "      <td>8.000000</td>\n",
       "      <td>6.000000</td>\n",
       "    </tr>\n",
       "    <tr>\n",
       "      <th>50%</th>\n",
       "      <td>7443.000000</td>\n",
       "      <td>56.000000</td>\n",
       "      <td>47.500000</td>\n",
       "      <td>177.255925</td>\n",
       "      <td>1650.500000</td>\n",
       "      <td>62.500000</td>\n",
       "      <td>10.000000</td>\n",
       "      <td>3421.156721</td>\n",
       "      <td>1414.966279</td>\n",
       "      <td>15.000000</td>\n",
       "      <td>12.000000</td>\n",
       "    </tr>\n",
       "    <tr>\n",
       "      <th>75%</th>\n",
       "      <td>11007.000000</td>\n",
       "      <td>112.250000</td>\n",
       "      <td>94.000000</td>\n",
       "      <td>266.058022</td>\n",
       "      <td>2508.750000</td>\n",
       "      <td>169.250000</td>\n",
       "      <td>43.000000</td>\n",
       "      <td>5166.097373</td>\n",
       "      <td>2443.955404</td>\n",
       "      <td>23.000000</td>\n",
       "      <td>18.000000</td>\n",
       "    </tr>\n",
       "    <tr>\n",
       "      <th>max</th>\n",
       "      <td>14993.000000</td>\n",
       "      <td>556.000000</td>\n",
       "      <td>445.000000</td>\n",
       "      <td>1076.879741</td>\n",
       "      <td>3498.000000</td>\n",
       "      <td>1096.000000</td>\n",
       "      <td>352.000000</td>\n",
       "      <td>15135.391280</td>\n",
       "      <td>9746.253023</td>\n",
       "      <td>31.000000</td>\n",
       "      <td>30.000000</td>\n",
       "    </tr>\n",
       "  </tbody>\n",
       "</table>\n",
       "</div>"
      ],
      "text/plain": [
       "                 ID    sessions      drives  total_sessions  \\\n",
       "count    700.000000  700.000000  700.000000      700.000000   \n",
       "mean    7405.584286   80.837143   67.798571      198.483348   \n",
       "std     4306.900234   79.987440   65.271926      140.561715   \n",
       "min       77.000000    0.000000    0.000000        5.582648   \n",
       "25%     3744.500000   23.000000   20.000000       94.056340   \n",
       "50%     7443.000000   56.000000   47.500000      177.255925   \n",
       "75%    11007.000000  112.250000   94.000000      266.058022   \n",
       "max    14993.000000  556.000000  445.000000     1076.879741   \n",
       "\n",
       "       n_days_after_onboarding  total_navigations_fav1  \\\n",
       "count               700.000000              700.000000   \n",
       "mean               1709.295714              118.717143   \n",
       "std                1005.306562              156.308140   \n",
       "min                  16.000000                0.000000   \n",
       "25%                 869.000000                4.000000   \n",
       "50%                1650.500000               62.500000   \n",
       "75%                2508.750000              169.250000   \n",
       "max                3498.000000             1096.000000   \n",
       "\n",
       "       total_navigations_fav2  driven_km_drives  duration_minutes_drives  \\\n",
       "count              700.000000        700.000000               700.000000   \n",
       "mean                30.371429       3935.967029              1795.123358   \n",
       "std                 46.306984       2443.107121              1419.242246   \n",
       "min                  0.000000        290.119811                66.588493   \n",
       "25%                  0.000000       2119.344818               779.009271   \n",
       "50%                 10.000000       3421.156721              1414.966279   \n",
       "75%                 43.000000       5166.097373              2443.955404   \n",
       "max                352.000000      15135.391280              9746.253023   \n",
       "\n",
       "       activity_days  driving_days  \n",
       "count     700.000000    700.000000  \n",
       "mean       15.382857     12.125714  \n",
       "std         8.772714      7.626373  \n",
       "min         0.000000      0.000000  \n",
       "25%         8.000000      6.000000  \n",
       "50%        15.000000     12.000000  \n",
       "75%        23.000000     18.000000  \n",
       "max        31.000000     30.000000  "
      ]
     },
     "execution_count": 5,
     "metadata": {},
     "output_type": "execute_result"
    }
   ],
   "source": [
    "# Isolating rows with null values\n",
    "null_df = df[df['label'].isnull()]\n",
    "# Display summary stats of rows with null values\n",
    "null_df.describe()"
   ]
  },
  {
   "cell_type": "code",
   "execution_count": 7,
   "id": "7614df9c-1670-4bf1-bbbe-a39e24c2e10c",
   "metadata": {
    "tags": []
   },
   "outputs": [
    {
     "data": {
      "text/html": [
       "<div>\n",
       "<style scoped>\n",
       "    .dataframe tbody tr th:only-of-type {\n",
       "        vertical-align: middle;\n",
       "    }\n",
       "\n",
       "    .dataframe tbody tr th {\n",
       "        vertical-align: top;\n",
       "    }\n",
       "\n",
       "    .dataframe thead th {\n",
       "        text-align: right;\n",
       "    }\n",
       "</style>\n",
       "<table border=\"1\" class=\"dataframe\">\n",
       "  <thead>\n",
       "    <tr style=\"text-align: right;\">\n",
       "      <th></th>\n",
       "      <th>ID</th>\n",
       "      <th>sessions</th>\n",
       "      <th>drives</th>\n",
       "      <th>total_sessions</th>\n",
       "      <th>n_days_after_onboarding</th>\n",
       "      <th>total_navigations_fav1</th>\n",
       "      <th>total_navigations_fav2</th>\n",
       "      <th>driven_km_drives</th>\n",
       "      <th>duration_minutes_drives</th>\n",
       "      <th>activity_days</th>\n",
       "      <th>driving_days</th>\n",
       "    </tr>\n",
       "  </thead>\n",
       "  <tbody>\n",
       "    <tr>\n",
       "      <th>count</th>\n",
       "      <td>14299.000000</td>\n",
       "      <td>14299.000000</td>\n",
       "      <td>14299.000000</td>\n",
       "      <td>14299.000000</td>\n",
       "      <td>14299.000000</td>\n",
       "      <td>14299.000000</td>\n",
       "      <td>14299.000000</td>\n",
       "      <td>14299.000000</td>\n",
       "      <td>14299.000000</td>\n",
       "      <td>14299.000000</td>\n",
       "      <td>14299.000000</td>\n",
       "    </tr>\n",
       "    <tr>\n",
       "      <th>mean</th>\n",
       "      <td>7503.573117</td>\n",
       "      <td>80.623820</td>\n",
       "      <td>67.255822</td>\n",
       "      <td>189.547409</td>\n",
       "      <td>1751.822505</td>\n",
       "      <td>121.747395</td>\n",
       "      <td>29.638296</td>\n",
       "      <td>4044.401535</td>\n",
       "      <td>1864.199794</td>\n",
       "      <td>15.544653</td>\n",
       "      <td>12.182530</td>\n",
       "    </tr>\n",
       "    <tr>\n",
       "      <th>std</th>\n",
       "      <td>4331.207621</td>\n",
       "      <td>80.736502</td>\n",
       "      <td>65.947295</td>\n",
       "      <td>136.189764</td>\n",
       "      <td>1008.663834</td>\n",
       "      <td>147.713428</td>\n",
       "      <td>45.350890</td>\n",
       "      <td>2504.977970</td>\n",
       "      <td>1448.005047</td>\n",
       "      <td>9.016088</td>\n",
       "      <td>7.833835</td>\n",
       "    </tr>\n",
       "    <tr>\n",
       "      <th>min</th>\n",
       "      <td>0.000000</td>\n",
       "      <td>0.000000</td>\n",
       "      <td>0.000000</td>\n",
       "      <td>0.220211</td>\n",
       "      <td>4.000000</td>\n",
       "      <td>0.000000</td>\n",
       "      <td>0.000000</td>\n",
       "      <td>60.441250</td>\n",
       "      <td>18.282082</td>\n",
       "      <td>0.000000</td>\n",
       "      <td>0.000000</td>\n",
       "    </tr>\n",
       "    <tr>\n",
       "      <th>25%</th>\n",
       "      <td>3749.500000</td>\n",
       "      <td>23.000000</td>\n",
       "      <td>20.000000</td>\n",
       "      <td>90.457733</td>\n",
       "      <td>878.500000</td>\n",
       "      <td>10.000000</td>\n",
       "      <td>0.000000</td>\n",
       "      <td>2217.319909</td>\n",
       "      <td>840.181344</td>\n",
       "      <td>8.000000</td>\n",
       "      <td>5.000000</td>\n",
       "    </tr>\n",
       "    <tr>\n",
       "      <th>50%</th>\n",
       "      <td>7504.000000</td>\n",
       "      <td>56.000000</td>\n",
       "      <td>48.000000</td>\n",
       "      <td>158.718571</td>\n",
       "      <td>1749.000000</td>\n",
       "      <td>71.000000</td>\n",
       "      <td>9.000000</td>\n",
       "      <td>3496.545617</td>\n",
       "      <td>1479.394387</td>\n",
       "      <td>16.000000</td>\n",
       "      <td>12.000000</td>\n",
       "    </tr>\n",
       "    <tr>\n",
       "      <th>75%</th>\n",
       "      <td>11257.500000</td>\n",
       "      <td>111.000000</td>\n",
       "      <td>93.000000</td>\n",
       "      <td>253.540450</td>\n",
       "      <td>2627.500000</td>\n",
       "      <td>178.000000</td>\n",
       "      <td>43.000000</td>\n",
       "      <td>5299.972162</td>\n",
       "      <td>2466.928876</td>\n",
       "      <td>23.000000</td>\n",
       "      <td>19.000000</td>\n",
       "    </tr>\n",
       "    <tr>\n",
       "      <th>max</th>\n",
       "      <td>14998.000000</td>\n",
       "      <td>743.000000</td>\n",
       "      <td>596.000000</td>\n",
       "      <td>1216.154633</td>\n",
       "      <td>3500.000000</td>\n",
       "      <td>1236.000000</td>\n",
       "      <td>415.000000</td>\n",
       "      <td>21183.401890</td>\n",
       "      <td>15851.727160</td>\n",
       "      <td>31.000000</td>\n",
       "      <td>30.000000</td>\n",
       "    </tr>\n",
       "  </tbody>\n",
       "</table>\n",
       "</div>"
      ],
      "text/plain": [
       "                 ID      sessions        drives  total_sessions  \\\n",
       "count  14299.000000  14299.000000  14299.000000    14299.000000   \n",
       "mean    7503.573117     80.623820     67.255822      189.547409   \n",
       "std     4331.207621     80.736502     65.947295      136.189764   \n",
       "min        0.000000      0.000000      0.000000        0.220211   \n",
       "25%     3749.500000     23.000000     20.000000       90.457733   \n",
       "50%     7504.000000     56.000000     48.000000      158.718571   \n",
       "75%    11257.500000    111.000000     93.000000      253.540450   \n",
       "max    14998.000000    743.000000    596.000000     1216.154633   \n",
       "\n",
       "       n_days_after_onboarding  total_navigations_fav1  \\\n",
       "count             14299.000000            14299.000000   \n",
       "mean               1751.822505              121.747395   \n",
       "std                1008.663834              147.713428   \n",
       "min                   4.000000                0.000000   \n",
       "25%                 878.500000               10.000000   \n",
       "50%                1749.000000               71.000000   \n",
       "75%                2627.500000              178.000000   \n",
       "max                3500.000000             1236.000000   \n",
       "\n",
       "       total_navigations_fav2  driven_km_drives  duration_minutes_drives  \\\n",
       "count            14299.000000      14299.000000             14299.000000   \n",
       "mean                29.638296       4044.401535              1864.199794   \n",
       "std                 45.350890       2504.977970              1448.005047   \n",
       "min                  0.000000         60.441250                18.282082   \n",
       "25%                  0.000000       2217.319909               840.181344   \n",
       "50%                  9.000000       3496.545617              1479.394387   \n",
       "75%                 43.000000       5299.972162              2466.928876   \n",
       "max                415.000000      21183.401890             15851.727160   \n",
       "\n",
       "       activity_days  driving_days  \n",
       "count   14299.000000  14299.000000  \n",
       "mean       15.544653     12.182530  \n",
       "std         9.016088      7.833835  \n",
       "min         0.000000      0.000000  \n",
       "25%         8.000000      5.000000  \n",
       "50%        16.000000     12.000000  \n",
       "75%        23.000000     19.000000  \n",
       "max        31.000000     30.000000  "
      ]
     },
     "execution_count": 7,
     "metadata": {},
     "output_type": "execute_result"
    }
   ],
   "source": [
    "# Isolating rows without null values\n",
    "not_null_df = df[~df['label'].isnull()]\n",
    "# Display summary stats of rows without null values\n",
    "not_null_df.describe()"
   ]
  },
  {
   "cell_type": "code",
   "execution_count": 8,
   "id": "eeaff325-d465-4849-9202-8ede33aca901",
   "metadata": {
    "tags": []
   },
   "outputs": [
    {
     "data": {
      "text/plain": [
       "device\n",
       "iPhone     447\n",
       "Android    253\n",
       "Name: count, dtype: int64"
      ]
     },
     "execution_count": 8,
     "metadata": {},
     "output_type": "execute_result"
    }
   ],
   "source": [
    "# Getting the count of null values by device\n",
    "null_df['device'].value_counts()"
   ]
  },
  {
   "cell_type": "markdown",
   "id": "ded9a892-890f-4686-872d-4c02ebf22141",
   "metadata": {},
   "source": [
    "> Of the 700 rows with null values, 447 were iPhone users and 253 were Android users."
   ]
  },
  {
   "cell_type": "code",
   "execution_count": 9,
   "id": "0c210561-51ea-420a-83d7-6d08525df475",
   "metadata": {
    "tags": []
   },
   "outputs": [
    {
     "data": {
      "text/plain": [
       "device\n",
       "iPhone     0.638571\n",
       "Android    0.361429\n",
       "Name: proportion, dtype: float64"
      ]
     },
     "execution_count": 9,
     "metadata": {},
     "output_type": "execute_result"
    }
   ],
   "source": [
    "# Calculateing % of iPhone nulls and Android nulls\n",
    "null_df['device'].value_counts(normalize=True)"
   ]
  },
  {
   "cell_type": "code",
   "execution_count": 10,
   "id": "785fb3ba-03a6-4c33-a17f-7e1b52f9eea2",
   "metadata": {
    "tags": []
   },
   "outputs": [
    {
     "data": {
      "text/plain": [
       "device\n",
       "iPhone     0.644843\n",
       "Android    0.355157\n",
       "Name: proportion, dtype: float64"
      ]
     },
     "execution_count": 10,
     "metadata": {},
     "output_type": "execute_result"
    }
   ],
   "source": [
    "# Calculate % of iPhone users and Android users in full dataset\n",
    "df['device'].value_counts(normalize=True)"
   ]
  },
  {
   "cell_type": "markdown",
   "id": "6ddfde0a-48ed-4b2d-bf43-681f61468752",
   "metadata": {},
   "source": [
    "> The percentage of missing values by each device is consistent with their representation in the data overall."
   ]
  },
  {
   "cell_type": "code",
   "execution_count": 11,
   "id": "28521ca2-4bb6-4271-9a34-8bfc978f6051",
   "metadata": {
    "tags": []
   },
   "outputs": [
    {
     "name": "stdout",
     "output_type": "stream",
     "text": [
      "label\n",
      "retained    11763\n",
      "churned      2536\n",
      "Name: count, dtype: int64\n",
      "\n",
      "label\n",
      "retained    0.822645\n",
      "churned     0.177355\n",
      "Name: proportion, dtype: float64\n"
     ]
    }
   ],
   "source": [
    "# Calculateing counts of churned vs. retained\n",
    "print(df['label'].value_counts())\n",
    "print()\n",
    "print(df['label'].value_counts(normalize=True))"
   ]
  },
  {
   "cell_type": "markdown",
   "id": "25bcd25d-64fb-43f7-9904-92bc819f079e",
   "metadata": {},
   "source": [
    "> This dataset contains 82% retained users and 18% churned users."
   ]
  },
  {
   "cell_type": "code",
   "execution_count": 12,
   "id": "60a5475e-7889-4e70-bab2-02a1d74de84f",
   "metadata": {
    "tags": []
   },
   "outputs": [
    {
     "data": {
      "text/html": [
       "<div>\n",
       "<style scoped>\n",
       "    .dataframe tbody tr th:only-of-type {\n",
       "        vertical-align: middle;\n",
       "    }\n",
       "\n",
       "    .dataframe tbody tr th {\n",
       "        vertical-align: top;\n",
       "    }\n",
       "\n",
       "    .dataframe thead th {\n",
       "        text-align: right;\n",
       "    }\n",
       "</style>\n",
       "<table border=\"1\" class=\"dataframe\">\n",
       "  <thead>\n",
       "    <tr style=\"text-align: right;\">\n",
       "      <th></th>\n",
       "      <th>ID</th>\n",
       "      <th>sessions</th>\n",
       "      <th>drives</th>\n",
       "      <th>total_sessions</th>\n",
       "      <th>n_days_after_onboarding</th>\n",
       "      <th>total_navigations_fav1</th>\n",
       "      <th>total_navigations_fav2</th>\n",
       "      <th>driven_km_drives</th>\n",
       "      <th>duration_minutes_drives</th>\n",
       "      <th>activity_days</th>\n",
       "      <th>driving_days</th>\n",
       "    </tr>\n",
       "    <tr>\n",
       "      <th>label</th>\n",
       "      <th></th>\n",
       "      <th></th>\n",
       "      <th></th>\n",
       "      <th></th>\n",
       "      <th></th>\n",
       "      <th></th>\n",
       "      <th></th>\n",
       "      <th></th>\n",
       "      <th></th>\n",
       "      <th></th>\n",
       "      <th></th>\n",
       "    </tr>\n",
       "  </thead>\n",
       "  <tbody>\n",
       "    <tr>\n",
       "      <th>churned</th>\n",
       "      <td>7477.5</td>\n",
       "      <td>59.0</td>\n",
       "      <td>50.0</td>\n",
       "      <td>164.339042</td>\n",
       "      <td>1321.0</td>\n",
       "      <td>84.5</td>\n",
       "      <td>11.0</td>\n",
       "      <td>3652.655666</td>\n",
       "      <td>1607.183785</td>\n",
       "      <td>8.0</td>\n",
       "      <td>6.0</td>\n",
       "    </tr>\n",
       "    <tr>\n",
       "      <th>retained</th>\n",
       "      <td>7509.0</td>\n",
       "      <td>56.0</td>\n",
       "      <td>47.0</td>\n",
       "      <td>157.586756</td>\n",
       "      <td>1843.0</td>\n",
       "      <td>68.0</td>\n",
       "      <td>9.0</td>\n",
       "      <td>3464.684614</td>\n",
       "      <td>1458.046141</td>\n",
       "      <td>17.0</td>\n",
       "      <td>14.0</td>\n",
       "    </tr>\n",
       "  </tbody>\n",
       "</table>\n",
       "</div>"
      ],
      "text/plain": [
       "              ID  sessions  drives  total_sessions  n_days_after_onboarding  \\\n",
       "label                                                                         \n",
       "churned   7477.5      59.0    50.0      164.339042                   1321.0   \n",
       "retained  7509.0      56.0    47.0      157.586756                   1843.0   \n",
       "\n",
       "          total_navigations_fav1  total_navigations_fav2  driven_km_drives  \\\n",
       "label                                                                        \n",
       "churned                     84.5                    11.0       3652.655666   \n",
       "retained                    68.0                     9.0       3464.684614   \n",
       "\n",
       "          duration_minutes_drives  activity_days  driving_days  \n",
       "label                                                           \n",
       "churned               1607.183785            8.0           6.0  \n",
       "retained              1458.046141           17.0          14.0  "
      ]
     },
     "execution_count": 12,
     "metadata": {},
     "output_type": "execute_result"
    }
   ],
   "source": [
    "# Calculating the median values of all columns for churned and retained users\n",
    "df.groupby('label').median(numeric_only=True)"
   ]
  },
  {
   "cell_type": "markdown",
   "id": "55b058ef-95f0-4033-8b4c-3cd697ec192f",
   "metadata": {},
   "source": [
    "> Users who churned averaged ~3 more drives in the last month than retained users, but retained users used the app on over twice as many days as churned users in the same time period.\n",
    "\n",
    "> The median churned user drove ~200 more kilometers and 2.5 more hours during the last month than the median retained user.\n",
    "\n",
    "> It seems that churned users had more drives in fewer days, and their trips were farther and longer in duration. Perhaps this is suggestive of a user profile. "
   ]
  },
  {
   "cell_type": "code",
   "execution_count": 13,
   "id": "b38812b6-ef7d-4475-9e2c-14fef3580c27",
   "metadata": {
    "tags": []
   },
   "outputs": [
    {
     "data": {
      "text/html": [
       "<div>\n",
       "<style scoped>\n",
       "    .dataframe tbody tr th:only-of-type {\n",
       "        vertical-align: middle;\n",
       "    }\n",
       "\n",
       "    .dataframe tbody tr th {\n",
       "        vertical-align: top;\n",
       "    }\n",
       "\n",
       "    .dataframe thead th {\n",
       "        text-align: right;\n",
       "    }\n",
       "</style>\n",
       "<table border=\"1\" class=\"dataframe\">\n",
       "  <thead>\n",
       "    <tr style=\"text-align: right;\">\n",
       "      <th></th>\n",
       "      <th>km_per_drive</th>\n",
       "    </tr>\n",
       "    <tr>\n",
       "      <th>label</th>\n",
       "      <th></th>\n",
       "    </tr>\n",
       "  </thead>\n",
       "  <tbody>\n",
       "    <tr>\n",
       "      <th>churned</th>\n",
       "      <td>74.109416</td>\n",
       "    </tr>\n",
       "    <tr>\n",
       "      <th>retained</th>\n",
       "      <td>75.014702</td>\n",
       "    </tr>\n",
       "  </tbody>\n",
       "</table>\n",
       "</div>"
      ],
      "text/plain": [
       "          km_per_drive\n",
       "label                 \n",
       "churned      74.109416\n",
       "retained     75.014702"
      ]
     },
     "execution_count": 13,
     "metadata": {},
     "output_type": "execute_result"
    }
   ],
   "source": [
    "# Adding a column to df called `km_per_drive`\n",
    "df['km_per_drive'] = df['driven_km_drives'] / df['drives']\n",
    "\n",
    "# Grouping by `label`, calculate the median, and isolate for km per drive\n",
    "median_km_per_drive = df.groupby('label').median(numeric_only=True)[['km_per_drive']]\n",
    "median_km_per_drive"
   ]
  },
  {
   "cell_type": "markdown",
   "id": "9300b2b6-d847-4688-a511-3caa9c58d1dd",
   "metadata": {},
   "source": [
    "> The median retained user drove about one more kilometer per drive than the median churned user"
   ]
  },
  {
   "cell_type": "code",
   "execution_count": 14,
   "id": "b90b0833-bf76-4afb-b3d4-cc904903cdf0",
   "metadata": {
    "tags": []
   },
   "outputs": [
    {
     "data": {
      "text/html": [
       "<div>\n",
       "<style scoped>\n",
       "    .dataframe tbody tr th:only-of-type {\n",
       "        vertical-align: middle;\n",
       "    }\n",
       "\n",
       "    .dataframe tbody tr th {\n",
       "        vertical-align: top;\n",
       "    }\n",
       "\n",
       "    .dataframe thead th {\n",
       "        text-align: right;\n",
       "    }\n",
       "</style>\n",
       "<table border=\"1\" class=\"dataframe\">\n",
       "  <thead>\n",
       "    <tr style=\"text-align: right;\">\n",
       "      <th></th>\n",
       "      <th>km_per_driving_day</th>\n",
       "    </tr>\n",
       "    <tr>\n",
       "      <th>label</th>\n",
       "      <th></th>\n",
       "    </tr>\n",
       "  </thead>\n",
       "  <tbody>\n",
       "    <tr>\n",
       "      <th>churned</th>\n",
       "      <td>697.541999</td>\n",
       "    </tr>\n",
       "    <tr>\n",
       "      <th>retained</th>\n",
       "      <td>289.549333</td>\n",
       "    </tr>\n",
       "  </tbody>\n",
       "</table>\n",
       "</div>"
      ],
      "text/plain": [
       "          km_per_driving_day\n",
       "label                       \n",
       "churned           697.541999\n",
       "retained          289.549333"
      ]
     },
     "execution_count": 14,
     "metadata": {},
     "output_type": "execute_result"
    }
   ],
   "source": [
    "# Adding a column to df called `km_per_driving_day`\n",
    "df['km_per_driving_day'] = df['driven_km_drives'] / df['driving_days']\n",
    "\n",
    "# Grouping by `label`, calculate the median, and isolate for km per driving day\n",
    "median_km_per_driving_day = df.groupby('label').median(numeric_only=True)[['km_per_driving_day']]\n",
    "median_km_per_driving_day"
   ]
  },
  {
   "cell_type": "code",
   "execution_count": 15,
   "id": "a6accaff-620b-40bd-b5d2-a39b428165be",
   "metadata": {
    "tags": []
   },
   "outputs": [
    {
     "data": {
      "text/html": [
       "<div>\n",
       "<style scoped>\n",
       "    .dataframe tbody tr th:only-of-type {\n",
       "        vertical-align: middle;\n",
       "    }\n",
       "\n",
       "    .dataframe tbody tr th {\n",
       "        vertical-align: top;\n",
       "    }\n",
       "\n",
       "    .dataframe thead th {\n",
       "        text-align: right;\n",
       "    }\n",
       "</style>\n",
       "<table border=\"1\" class=\"dataframe\">\n",
       "  <thead>\n",
       "    <tr style=\"text-align: right;\">\n",
       "      <th></th>\n",
       "      <th>drives_per_driving_day</th>\n",
       "    </tr>\n",
       "    <tr>\n",
       "      <th>label</th>\n",
       "      <th></th>\n",
       "    </tr>\n",
       "  </thead>\n",
       "  <tbody>\n",
       "    <tr>\n",
       "      <th>churned</th>\n",
       "      <td>10.0000</td>\n",
       "    </tr>\n",
       "    <tr>\n",
       "      <th>retained</th>\n",
       "      <td>4.0625</td>\n",
       "    </tr>\n",
       "  </tbody>\n",
       "</table>\n",
       "</div>"
      ],
      "text/plain": [
       "          drives_per_driving_day\n",
       "label                           \n",
       "churned                  10.0000\n",
       "retained                  4.0625"
      ]
     },
     "execution_count": 15,
     "metadata": {},
     "output_type": "execute_result"
    }
   ],
   "source": [
    "# Adding a column to df called `drives_per_driving_day`\n",
    "df['drives_per_driving_day'] = df['drives'] / df['driving_days']\n",
    "\n",
    "# Grouping by `label`, calculate the median, and isolate for drives per driving day\n",
    "median_drives_per_driving_day = df.groupby('label').median(numeric_only=True)[['drives_per_driving_day']]\n",
    "median_drives_per_driving_day"
   ]
  },
  {
   "cell_type": "markdown",
   "id": "fad4b4c5-4605-49c3-bc83-4d189ece193e",
   "metadata": {},
   "source": [
    "> The median user who churned drove 698 kilometers each day they drove last month, which is ~240% the per-drive-day distance of retained users. The median churned user had a similarly disproporionate number of drives per drive day compared to retained users.\n",
    "\n",
    "> It is clear from these figures that, regardless of whether a user churned or not, the users represented in this data are serious drivers! It would probably be safe to assume that this data does not represent typical drivers at large. Perhaps the data—and in particular the sample of churned users—contains a high proportion of long-haul truckers.\n",
    "\n",
    "> In consideration of how much these users drive, it would be worthwhile to recommend to Waze that they gather more data on these super-drivers. It's possible that the reason for their driving so much is also the reason why the Waze app does not meet their specific set of needs, which may differ from the needs of a more typical driver, such as a commuter."
   ]
  },
  {
   "cell_type": "code",
   "execution_count": 16,
   "id": "ee7ac7f0-1702-48a2-a2b2-2e778cc19ed7",
   "metadata": {
    "tags": []
   },
   "outputs": [
    {
     "data": {
      "text/plain": [
       "label     device \n",
       "churned   Android     891\n",
       "          iPhone     1645\n",
       "retained  Android    4183\n",
       "          iPhone     7580\n",
       "dtype: int64"
      ]
     },
     "execution_count": 16,
     "metadata": {},
     "output_type": "execute_result"
    }
   ],
   "source": [
    "# calculating the number of Android users and iPhone users\n",
    "df.groupby(['label', 'device']).size()"
   ]
  },
  {
   "cell_type": "code",
   "execution_count": 17,
   "id": "f7821f61-c932-4bfd-a384-fb1d272cfe59",
   "metadata": {
    "tags": []
   },
   "outputs": [
    {
     "data": {
      "text/plain": [
       "label     device \n",
       "churned   iPhone     0.648659\n",
       "          Android    0.351341\n",
       "retained  iPhone     0.644393\n",
       "          Android    0.355607\n",
       "Name: proportion, dtype: float64"
      ]
     },
     "execution_count": 17,
     "metadata": {},
     "output_type": "execute_result"
    }
   ],
   "source": [
    "# calculating the percentage of Android users and iPhone users\n",
    "df.groupby('label')['device'].value_counts(normalize=True)"
   ]
  },
  {
   "cell_type": "markdown",
   "id": "25394ef2-7aa8-468d-8b7b-f644a0c6c08a",
   "metadata": {},
   "source": [
    "> The ratio of iPhone users and Android users is consistent between the churned group and the retained group, and those ratios are both consistent with the ratio found in the overall dataset. "
   ]
  },
  {
   "cell_type": "code",
   "execution_count": 21,
   "id": "13ff52ac-c9d5-4f20-acc4-e4fb1fc0dbcc",
   "metadata": {
    "tags": []
   },
   "outputs": [
    {
     "data": {
      "image/png": "[encoded data removed]",
      "text/plain": [
       "<Figure size 640x480 with 1 Axes>"
      ]
     },
     "metadata": {},
     "output_type": "display_data"
    }
   ],
   "source": [
    "sns.boxplot(data = df,\n",
    "            x = 'sessions');"
   ]
  },
  {
   "cell_type": "code",
   "execution_count": 22,
   "id": "fd5ff21f-58a0-4b3d-9c31-5d9aff0f7a83",
   "metadata": {
    "tags": []
   },
   "outputs": [
    {
     "data": {
      "image/png": "[encoded data removed]",
      "text/plain": [
       "<Figure size 640x480 with 1 Axes>"
      ]
     },
     "metadata": {},
     "output_type": "display_data"
    }
   ],
   "source": [
    "sns.histplot(data = df,\n",
    "             x = 'sessions');"
   ]
  },
  {
   "cell_type": "markdown",
   "id": "4340deb7-e923-412f-a2ee-8bf2744c51d0",
   "metadata": {},
   "source": [
    "> The sessions variable is a right-skewed distribution with half of the observations having 56 or fewer sessions. However, as indicated by the boxplot, some users have more than 700."
   ]
  },
  {
   "cell_type": "code",
   "execution_count": 23,
   "id": "27cc3b49-04ac-48f1-9c45-19df213316de",
   "metadata": {
    "tags": []
   },
   "outputs": [
    {
     "data": {
      "image/png": "[encoded data removed]",
      "text/plain": [
       "<Figure size 640x480 with 1 Axes>"
      ]
     },
     "metadata": {},
     "output_type": "display_data"
    }
   ],
   "source": [
    "sns.boxplot(data = df,\n",
    "            x = 'drives');"
   ]
  },
  {
   "cell_type": "code",
   "execution_count": 26,
   "id": "9ed4623b-72ce-4a19-87dd-4d974b6cab28",
   "metadata": {
    "tags": []
   },
   "outputs": [
    {
     "data": {
      "image/png": "[encoded data removed]",
      "text/plain": [
       "<Figure size 640x480 with 1 Axes>"
      ]
     },
     "metadata": {},
     "output_type": "display_data"
    }
   ],
   "source": [
    "sns.histplot(data = df,\n",
    "             x = 'drives');"
   ]
  },
  {
   "cell_type": "markdown",
   "id": "7730fbda-8da2-4f00-8f94-69a34764fa39",
   "metadata": {},
   "source": [
    "> The drives information follows a distribution similar to the sessions variable. It is right-skewed, approximately log-normal, with a median of 48. However, some drivers had over 400 drives in the last month."
   ]
  },
  {
   "cell_type": "code",
   "execution_count": 27,
   "id": "f30d607a-6668-4350-acbc-6854edd4507a",
   "metadata": {
    "tags": []
   },
   "outputs": [
    {
     "data": {
      "image/png": "[encoded data removed]",
      "text/plain": [
       "<Figure size 640x480 with 1 Axes>"
      ]
     },
     "metadata": {},
     "output_type": "display_data"
    }
   ],
   "source": [
    "sns.boxplot(data = df,\n",
    "            x = 'total_sessions');"
   ]
  },
  {
   "cell_type": "code",
   "execution_count": 29,
   "id": "b1738bc6-2349-4301-852e-a34a2b081c1f",
   "metadata": {
    "tags": []
   },
   "outputs": [
    {
     "data": {
      "image/png": "[encoded data removed]",
      "text/plain": [
       "<Figure size 640x480 with 1 Axes>"
      ]
     },
     "metadata": {},
     "output_type": "display_data"
    }
   ],
   "source": [
    "sns.histplot(data = df,\n",
    "            x = 'total_sessions');"
   ]
  },
  {
   "cell_type": "markdown",
   "id": "e9db4300-00fb-44c7-8790-37eb93fa6a44",
   "metadata": {},
   "source": [
    "> The total_sessions is a right-skewed distribution. The median total number of sessions is 159.6. This is interesting information because, if the median number of sessions in the last month was 56 and the median total sessions was ~160, then it seems that a large proportion of a user's (estimated) total drives might have taken place in the last month."
   ]
  },
  {
   "cell_type": "code",
   "execution_count": 30,
   "id": "b795d490-ea3d-47b7-8fed-601a947b421d",
   "metadata": {
    "tags": []
   },
   "outputs": [
    {
     "data": {
      "image/png": "[encoded data removed]",
      "text/plain": [
       "<Figure size 640x480 with 1 Axes>"
      ]
     },
     "metadata": {},
     "output_type": "display_data"
    }
   ],
   "source": [
    "sns.boxplot(data = df,\n",
    "            x = 'n_days_after_onboarding');"
   ]
  },
  {
   "cell_type": "code",
   "execution_count": 31,
   "id": "ea3f4c17-62d6-47ed-9711-b314f2dace54",
   "metadata": {
    "tags": []
   },
   "outputs": [
    {
     "data": {
      "image/png": "[encoded data removed]",
      "text/plain": [
       "<Figure size 640x480 with 1 Axes>"
      ]
     },
     "metadata": {},
     "output_type": "display_data"
    }
   ],
   "source": [
    "sns.histplot(data = df,\n",
    "             x = 'n_days_after_onboarding');"
   ]
  },
  {
   "cell_type": "markdown",
   "id": "f9688da8-455a-45b4-98c0-62f31996c9eb",
   "metadata": {},
   "source": [
    "> The total user tenure (i.e., number of days since onboarding) is a uniform distribution with values ranging from near-zero to ~3,500."
   ]
  },
  {
   "cell_type": "code",
   "execution_count": 33,
   "id": "fd6b2376-8d79-4c50-bc06-9e951d09fcb1",
   "metadata": {
    "tags": []
   },
   "outputs": [
    {
     "data": {
      "image/png": "[encoded data removed]",
      "text/plain": [
       "<Figure size 640x480 with 1 Axes>"
      ]
     },
     "metadata": {},
     "output_type": "display_data"
    }
   ],
   "source": [
    "sns.boxplot(data = df,\n",
    "            x = 'driven_km_drives'); "
   ]
  },
  {
   "cell_type": "code",
   "execution_count": 34,
   "id": "c14ac47d-d6fc-429a-82a7-a354836ea069",
   "metadata": {
    "tags": []
   },
   "outputs": [
    {
     "data": {
      "image/png": "[encoded data removed]",
      "text/plain": [
       "<Figure size 640x480 with 1 Axes>"
      ]
     },
     "metadata": {},
     "output_type": "display_data"
    }
   ],
   "source": [
    "sns.histplot(data = df,\n",
    "             x = 'driven_km_drives');"
   ]
  },
  {
   "cell_type": "markdown",
   "id": "074e9e4d-be88-479c-a435-cf6ef7edf2b3",
   "metadata": {},
   "source": [
    "> The number of drives driven in the last month per user is a right-skewed distribution with half the users driving under 3,495 kilometers. As you discovered in the analysis from the previous course, the users in this dataset drive a lot. The longest distance driven in the month was over half the circumferene of the earth."
   ]
  },
  {
   "cell_type": "code",
   "execution_count": 35,
   "id": "5c593b4b-0950-45c3-b2be-183cb09a708f",
   "metadata": {
    "tags": []
   },
   "outputs": [
    {
     "data": {
      "image/png": "[encoded data removed]",
      "text/plain": [
       "<Figure size 640x480 with 1 Axes>"
      ]
     },
     "metadata": {},
     "output_type": "display_data"
    }
   ],
   "source": [
    "sns.boxplot(data = df,\n",
    "            x = 'duration_minutes_drives');"
   ]
  },
  {
   "cell_type": "code",
   "execution_count": 36,
   "id": "dd1c0f66-2ff6-4afb-bc03-9be1aaaceda5",
   "metadata": {
    "tags": []
   },
   "outputs": [
    {
     "data": {
      "image/png": "[encoded data removed]",
      "text/plain": [
       "<Figure size 640x480 with 1 Axes>"
      ]
     },
     "metadata": {},
     "output_type": "display_data"
    }
   ],
   "source": [
    "sns.histplot(data = df,\n",
    "             x = 'duration_minutes_drives');"
   ]
  },
  {
   "cell_type": "markdown",
   "id": "7d5e1b8b-8f56-4eb5-aa02-4983d9f4069e",
   "metadata": {},
   "source": [
    "> The duration_minutes_drives variable has a heavily skewed right tail. Half of the users drove less than ~1,478 minutes (~25 hours), but some users clocked over 250 hours over the month."
   ]
  },
  {
   "cell_type": "code",
   "execution_count": 37,
   "id": "fa82959f-834a-436c-aac8-a99c996f4ef6",
   "metadata": {
    "tags": []
   },
   "outputs": [
    {
     "data": {
      "image/png": "[encoded data removed]",
      "text/plain": [
       "<Figure size 640x480 with 1 Axes>"
      ]
     },
     "metadata": {},
     "output_type": "display_data"
    }
   ],
   "source": [
    "sns.boxplot(data = df,\n",
    "            x = 'activity_days');"
   ]
  },
  {
   "cell_type": "code",
   "execution_count": 40,
   "id": "9feb6a6a-f436-4aab-aac1-37caae3b063c",
   "metadata": {
    "tags": []
   },
   "outputs": [
    {
     "data": {
      "image/png": "[encoded data removed]",
      "text/plain": [
       "<Figure size 640x480 with 1 Axes>"
      ]
     },
     "metadata": {},
     "output_type": "display_data"
    }
   ],
   "source": [
    "sns.histplot(data = df,\n",
    "             x = 'activity_days');"
   ]
  },
  {
   "cell_type": "code",
   "execution_count": 41,
   "id": "075a0989-b0f0-47b0-8270-428d581c190a",
   "metadata": {
    "tags": []
   },
   "outputs": [
    {
     "data": {
      "image/png": "[encoded data removed]",
      "text/plain": [
       "<Figure size 640x480 with 1 Axes>"
      ]
     },
     "metadata": {},
     "output_type": "display_data"
    }
   ],
   "source": [
    "sns.boxplot(data = df,\n",
    "            x = 'driving_days');"
   ]
  },
  {
   "cell_type": "code",
   "execution_count": 43,
   "id": "970c8ea4-c785-4675-a2b4-ef7836cc8ad8",
   "metadata": {
    "tags": []
   },
   "outputs": [
    {
     "data": {
      "image/png": "[encoded data removed]",
      "text/plain": [
       "<Figure size 640x480 with 1 Axes>"
      ]
     },
     "metadata": {},
     "output_type": "display_data"
    }
   ],
   "source": [
    "sns.histplot(data = df,\n",
    "             x = 'driving_days');"
   ]
  },
  {
   "cell_type": "code",
   "execution_count": null,
   "id": "e9c2bbbb-a65a-4388-8149-3d0bf0549058",
   "metadata": {},
   "outputs": [],
   "source": []
  }
 ],
 "metadata": {
  "kernelspec": {
   "display_name": "Python 3 (ipykernel)",
   "language": "python",
   "name": "python3"
  },
  "language_info": {
   "codemirror_mode": {
    "name": "ipython",
    "version": 3
   },
   "file_extension": ".py",
   "mimetype": "text/x-python",
   "name": "python",
   "nbconvert_exporter": "python",
   "pygments_lexer": "ipython3",
   "version": "3.11.5"
  }
 },
 "nbformat": 4,
 "nbformat_minor": 5
}
